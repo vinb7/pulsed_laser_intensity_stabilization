{
 "cells": [
  {
   "cell_type": "markdown",
   "id": "4a74645a",
   "metadata": {},
   "source": [
    "scope = cxn.ds1054z_photodiode_server\n",
    "print(scope.get_two_photodiode_data()) # (channel1_data, channel1_std, channel2_value, channel2_std)"
   ]
  },
  {
   "cell_type": "code",
   "execution_count": 1,
   "id": "824bc367",
   "metadata": {},
   "outputs": [],
   "source": [
    "import labrad\n",
    "import time as t\n",
    "import matplotlib.pyplot as plt\n",
    "import csv\n",
    "import pandas as pd\n",
    "import numpy as np"
   ]
  },
  {
   "cell_type": "code",
   "execution_count": 2,
   "id": "289770cf",
   "metadata": {},
   "outputs": [],
   "source": [
    "cxn = labrad.connect()\n",
    "\n",
    "scope = cxn.ds1054z_photodiode_server"
   ]
  },
  {
   "cell_type": "code",
   "execution_count": 21,
   "id": "c07361e1",
   "metadata": {},
   "outputs": [
    {
     "name": "stdout",
     "output_type": "stream",
     "text": [
      "(DimensionlessArray([0.528, 0.536, 0.52 , ..., 0.52 , 0.536, 0.52 ]), DimensionlessArray([-0.016,  0.   ,  0.   , ...,  0.4  ,  0.4  ,  0.408]))\n"
     ]
    }
   ],
   "source": [
    "print(scope.get_two_photodiode_data()) # (channel1_data, channel1_std, channel3_value, channel3_std)"
   ]
  },
  {
   "cell_type": "code",
   "execution_count": 51,
   "id": "1f5604e8",
   "metadata": {},
   "outputs": [],
   "source": [
    "channels = scope.get_two_photodiode_data()\n",
    "array1, array2 = channels\n",
    "# print(array2[:500])"
   ]
  },
  {
   "cell_type": "code",
   "execution_count": 20,
   "id": "bb314f8e",
   "metadata": {},
   "outputs": [
    {
     "ename": "TypeError",
     "evalue": "Incompatible units: '', 'V'",
     "output_type": "error",
     "traceback": [
      "\u001b[1;31m---------------------------------------------------------------------------\u001b[0m",
      "\u001b[1;31mTypeError\u001b[0m                                 Traceback (most recent call last)",
      "\u001b[1;32mC:\\Users\\SCIENT~1\\AppData\\Local\\Temp/ipykernel_21856/112310517.py\u001b[0m in \u001b[0;36m<module>\u001b[1;34m\u001b[0m\n\u001b[0;32m     37\u001b[0m     \u001b[0mtime_s\u001b[0m \u001b[1;33m=\u001b[0m \u001b[0mt\u001b[0m\u001b[1;33m.\u001b[0m\u001b[0mtime\u001b[0m\u001b[1;33m(\u001b[0m\u001b[1;33m)\u001b[0m \u001b[1;33m-\u001b[0m \u001b[0mnow\u001b[0m\u001b[1;33m\u001b[0m\u001b[1;33m\u001b[0m\u001b[0m\n\u001b[0;32m     38\u001b[0m \u001b[1;33m\u001b[0m\u001b[0m\n\u001b[1;32m---> 39\u001b[1;33m     \u001b[0mch1_avg\u001b[0m \u001b[1;33m=\u001b[0m \u001b[0mdata\u001b[0m\u001b[1;33m[\u001b[0m\u001b[1;36m0\u001b[0m\u001b[1;33m]\u001b[0m\u001b[1;33m[\u001b[0m\u001b[1;34m\"V\"\u001b[0m\u001b[1;33m]\u001b[0m \u001b[1;31m# obtain channel 1 value\u001b[0m\u001b[1;33m\u001b[0m\u001b[1;33m\u001b[0m\u001b[0m\n\u001b[0m\u001b[0;32m     40\u001b[0m     \u001b[0mch2_avg\u001b[0m \u001b[1;33m=\u001b[0m \u001b[0mdata\u001b[0m\u001b[1;33m[\u001b[0m\u001b[1;36m2\u001b[0m\u001b[1;33m]\u001b[0m\u001b[1;33m[\u001b[0m\u001b[1;34m\"V\"\u001b[0m\u001b[1;33m]\u001b[0m \u001b[1;31m# obtain channel 2 value # data[1] is channel 1 std\u001b[0m\u001b[1;33m\u001b[0m\u001b[1;33m\u001b[0m\u001b[0m\n\u001b[0;32m     41\u001b[0m \u001b[1;33m\u001b[0m\u001b[0m\n",
      "\u001b[1;32m~\\Anaconda3\\envs\\artiq\\lib\\site-packages\\labrad\\units.py\u001b[0m in \u001b[0;36m__getitem__\u001b[1;34m(self, idx)\u001b[0m\n\u001b[0;32m   1033\u001b[0m         \u001b[1;31m# implementation\u001b[0m\u001b[1;33m\u001b[0m\u001b[1;33m\u001b[0m\u001b[1;33m\u001b[0m\u001b[0m\n\u001b[0;32m   1034\u001b[0m         \u001b[1;32mif\u001b[0m \u001b[0misinstance\u001b[0m\u001b[1;33m(\u001b[0m\u001b[0midx\u001b[0m\u001b[1;33m,\u001b[0m \u001b[1;33m(\u001b[0m\u001b[0mstr\u001b[0m\u001b[1;33m,\u001b[0m \u001b[0mUnit\u001b[0m\u001b[1;33m)\u001b[0m\u001b[1;33m)\u001b[0m\u001b[1;33m:\u001b[0m\u001b[1;33m\u001b[0m\u001b[1;33m\u001b[0m\u001b[0m\n\u001b[1;32m-> 1035\u001b[1;33m             \u001b[1;32mreturn\u001b[0m \u001b[0mself\u001b[0m\u001b[1;33m.\u001b[0m\u001b[0m_value\u001b[0m \u001b[1;33m*\u001b[0m \u001b[0mself\u001b[0m\u001b[1;33m.\u001b[0m\u001b[0munit\u001b[0m\u001b[1;33m.\u001b[0m\u001b[0mconversionFactorTo\u001b[0m\u001b[1;33m(\u001b[0m\u001b[0midx\u001b[0m\u001b[1;33m)\u001b[0m\u001b[1;33m\u001b[0m\u001b[1;33m\u001b[0m\u001b[0m\n\u001b[0m\u001b[0;32m   1036\u001b[0m         \u001b[1;32melse\u001b[0m\u001b[1;33m:\u001b[0m\u001b[1;33m\u001b[0m\u001b[1;33m\u001b[0m\u001b[0m\n\u001b[0;32m   1037\u001b[0m             \u001b[1;32mreturn\u001b[0m \u001b[0msuper\u001b[0m\u001b[1;33m(\u001b[0m\u001b[0mWithDimensionlessUnit\u001b[0m\u001b[1;33m,\u001b[0m \u001b[0mself\u001b[0m\u001b[1;33m)\u001b[0m\u001b[1;33m.\u001b[0m\u001b[0m__getitem__\u001b[0m\u001b[1;33m(\u001b[0m\u001b[0midx\u001b[0m\u001b[1;33m)\u001b[0m\u001b[1;33m\u001b[0m\u001b[1;33m\u001b[0m\u001b[0m\n",
      "\u001b[1;32m~\\Anaconda3\\envs\\artiq\\lib\\site-packages\\labrad\\util\\cache.py\u001b[0m in \u001b[0;36mwrapper\u001b[1;34m(*args, **kwds)\u001b[0m\n\u001b[0;32m    246\u001b[0m         \u001b[1;32mdef\u001b[0m \u001b[0mwrapper\u001b[0m\u001b[1;33m(\u001b[0m\u001b[1;33m*\u001b[0m\u001b[0margs\u001b[0m\u001b[1;33m,\u001b[0m \u001b[1;33m**\u001b[0m\u001b[0mkwds\u001b[0m\u001b[1;33m)\u001b[0m\u001b[1;33m:\u001b[0m\u001b[1;33m\u001b[0m\u001b[1;33m\u001b[0m\u001b[0m\n\u001b[0;32m    247\u001b[0m             \u001b[0mkey\u001b[0m \u001b[1;33m=\u001b[0m \u001b[0mmake_key\u001b[0m\u001b[1;33m(\u001b[0m\u001b[0margs\u001b[0m\u001b[1;33m,\u001b[0m \u001b[0mkwds\u001b[0m\u001b[1;33m)\u001b[0m\u001b[1;33m\u001b[0m\u001b[1;33m\u001b[0m\u001b[0m\n\u001b[1;32m--> 248\u001b[1;33m             \u001b[1;32mreturn\u001b[0m \u001b[0mcache\u001b[0m\u001b[1;33m.\u001b[0m\u001b[0mget\u001b[0m\u001b[1;33m(\u001b[0m\u001b[0mkey\u001b[0m\u001b[1;33m,\u001b[0m \u001b[0muser_function\u001b[0m\u001b[1;33m,\u001b[0m \u001b[1;33m*\u001b[0m\u001b[0margs\u001b[0m\u001b[1;33m,\u001b[0m \u001b[1;33m**\u001b[0m\u001b[0mkwds\u001b[0m\u001b[1;33m)\u001b[0m\u001b[1;33m\u001b[0m\u001b[1;33m\u001b[0m\u001b[0m\n\u001b[0m\u001b[0;32m    249\u001b[0m \u001b[1;33m\u001b[0m\u001b[0m\n\u001b[0;32m    250\u001b[0m         \u001b[1;32mdef\u001b[0m \u001b[0mcache_info\u001b[0m\u001b[1;33m(\u001b[0m\u001b[1;33m)\u001b[0m\u001b[1;33m:\u001b[0m\u001b[1;33m\u001b[0m\u001b[1;33m\u001b[0m\u001b[0m\n",
      "\u001b[1;32m~\\Anaconda3\\envs\\artiq\\lib\\site-packages\\labrad\\util\\cache.py\u001b[0m in \u001b[0;36m_get\u001b[1;34m(self, key, fn, *args, **kwds)\u001b[0m\n\u001b[0;32m    164\u001b[0m                 \u001b[0mself\u001b[0m\u001b[1;33m.\u001b[0m\u001b[0mhits\u001b[0m \u001b[1;33m+=\u001b[0m \u001b[1;36m1\u001b[0m\u001b[1;33m\u001b[0m\u001b[1;33m\u001b[0m\u001b[0m\n\u001b[0;32m    165\u001b[0m                 \u001b[1;32mreturn\u001b[0m \u001b[0mresult\u001b[0m\u001b[1;33m\u001b[0m\u001b[1;33m\u001b[0m\u001b[0m\n\u001b[1;32m--> 166\u001b[1;33m         \u001b[0mresult\u001b[0m \u001b[1;33m=\u001b[0m \u001b[0mfn\u001b[0m\u001b[1;33m(\u001b[0m\u001b[1;33m*\u001b[0m\u001b[0margs\u001b[0m\u001b[1;33m,\u001b[0m \u001b[1;33m**\u001b[0m\u001b[0mkwds\u001b[0m\u001b[1;33m)\u001b[0m\u001b[1;33m\u001b[0m\u001b[1;33m\u001b[0m\u001b[0m\n\u001b[0m\u001b[0;32m    167\u001b[0m         \u001b[1;32mwith\u001b[0m \u001b[0mself\u001b[0m\u001b[1;33m.\u001b[0m\u001b[0mlock\u001b[0m\u001b[1;33m:\u001b[0m\u001b[1;33m\u001b[0m\u001b[1;33m\u001b[0m\u001b[0m\n\u001b[0;32m    168\u001b[0m             \u001b[0mroot\u001b[0m \u001b[1;33m=\u001b[0m \u001b[0mself\u001b[0m\u001b[1;33m.\u001b[0m\u001b[0mroot\u001b[0m\u001b[1;33m\u001b[0m\u001b[1;33m\u001b[0m\u001b[0m\n",
      "\u001b[1;32m~\\Anaconda3\\envs\\artiq\\lib\\site-packages\\labrad\\units.py\u001b[0m in \u001b[0;36mconversionFactorTo\u001b[1;34m(self, other)\u001b[0m\n\u001b[0;32m    910\u001b[0m         \u001b[0mother\u001b[0m \u001b[1;33m=\u001b[0m \u001b[0mUnit\u001b[0m\u001b[1;33m(\u001b[0m\u001b[0mother\u001b[0m\u001b[1;33m)\u001b[0m\u001b[1;33m\u001b[0m\u001b[1;33m\u001b[0m\u001b[0m\n\u001b[0;32m    911\u001b[0m         \u001b[1;32mif\u001b[0m \u001b[1;32mnot\u001b[0m \u001b[0mself\u001b[0m\u001b[1;33m.\u001b[0m\u001b[0misCompatible\u001b[0m\u001b[1;33m(\u001b[0m\u001b[0mother\u001b[0m\u001b[1;33m)\u001b[0m\u001b[1;33m:\u001b[0m\u001b[1;33m\u001b[0m\u001b[1;33m\u001b[0m\u001b[0m\n\u001b[1;32m--> 912\u001b[1;33m             \u001b[1;32mraise\u001b[0m \u001b[0mTypeError\u001b[0m\u001b[1;33m(\u001b[0m\u001b[1;34m\"Incompatible units: '%s', '%s'\"\u001b[0m \u001b[1;33m%\u001b[0m \u001b[1;33m(\u001b[0m\u001b[0mself\u001b[0m\u001b[1;33m,\u001b[0m \u001b[0mother\u001b[0m\u001b[1;33m)\u001b[0m\u001b[1;33m)\u001b[0m\u001b[1;33m\u001b[0m\u001b[1;33m\u001b[0m\u001b[0m\n\u001b[0m\u001b[0;32m    913\u001b[0m         \u001b[1;32mif\u001b[0m \u001b[0mself\u001b[0m\u001b[1;33m.\u001b[0m\u001b[0moffset\u001b[0m \u001b[1;33m!=\u001b[0m \u001b[0mother\u001b[0m\u001b[1;33m.\u001b[0m\u001b[0moffset\u001b[0m \u001b[1;32mand\u001b[0m \u001b[0mself\u001b[0m\u001b[1;33m.\u001b[0m\u001b[0mfactor\u001b[0m \u001b[1;33m!=\u001b[0m \u001b[0mother\u001b[0m\u001b[1;33m.\u001b[0m\u001b[0mfactor\u001b[0m\u001b[1;33m:\u001b[0m\u001b[1;33m\u001b[0m\u001b[1;33m\u001b[0m\u001b[0m\n\u001b[0;32m    914\u001b[0m             raise TypeError(('Unit conversion (%s to %s) cannot be expressed ' +\n",
      "\u001b[1;31mTypeError\u001b[0m: Incompatible units: '', 'V'"
     ]
    }
   ],
   "source": [
    "import csv\n",
    "import time as t\n",
    "import numpy as np\n",
    "import os\n",
    "\n",
    "# Set the maximum number of rows per CSV file\n",
    "max_rows_per_file = 12000\n",
    "\n",
    "# Set the data duration in minutes\n",
    "data_duration_in_minute = 60*24\n",
    "data_duration = data_duration_in_minute * 60\n",
    "\n",
    "# Create a directory to store the CSV files\n",
    "directory = 'C:\\\\Users\\\\scientist\\\\code\\\\jam\\\\tommy\\\\PLIS\\\\Good PLIS Data'\n",
    "if not os.path.exists(directory):\n",
    "    os.makedirs(directory)\n",
    "\n",
    "# Generate a unique filename based on the current timestamp\n",
    "timestamp = t.strftime(\"%Y%m%d_%H%M%S\")\n",
    "\n",
    "# Initialize variables for the row counter and file index\n",
    "row_counter = 0\n",
    "file_index = 1\n",
    "\n",
    "# Open the first CSV file in write mode\n",
    "csv_file = f'{directory}/data_{timestamp}_{file_index}.csv'\n",
    "file = open(csv_file, 'w', newline='')\n",
    "writer = csv.writer(file)\n",
    "\n",
    "# Write the CSV header\n",
    "writer.writerow(['Time', 'Channel 1', 'Channel 2'])\n",
    "\n",
    "now = t.time()\n",
    "\n",
    "while t.time() - now < data_duration:\n",
    "    data = scope.get_two_photodiode_data()\n",
    "    time_s = t.time() - now\n",
    "    \n",
    "    ch1_avg = data[0][\"V\"] # obtain channel 1 value\n",
    "    ch2_avg = data[2][\"V\"] # obtain channel 2 value # data[1] is channel 1 std\n",
    "\n",
    "    # Write the data to the CSV file\n",
    "    writer.writerow([time_s, ch1_avg, ch2_avg])\n",
    "\n",
    "    # Increment the row counter\n",
    "    row_counter += 1\n",
    "\n",
    "    # Check if the maximum number of rows per file is reached\n",
    "    if row_counter >= max_rows_per_file:\n",
    "        # Close the current CSV file\n",
    "        file.close()\n",
    "\n",
    "        # Increment the file index\n",
    "        file_index += 1\n",
    "\n",
    "        # Open a new CSV file in write mode\n",
    "        csv_file = f'{directory}/data_{timestamp}_{file_index}.csv'\n",
    "        file = open(csv_file, 'w', newline='')\n",
    "        writer = csv.writer(file)\n",
    "\n",
    "        # Write the CSV header in the new file\n",
    "        writer.writerow(['Time', 'Channel 1', 'Channel 2'])\n",
    "\n",
    "        # Reset the row counter\n",
    "        row_counter = 0\n",
    "\n",
    "# Close the current CSV file\n",
    "file.close()\n",
    "\n",
    "# # Load the data from all the CSV files using NumPy\n",
    "# data = []\n",
    "# for file_index in range(1, file_index + 1):\n",
    "#     csv_file = f'{directory}/data_{timestamp}_{file_index}.csv'\n",
    "#     data_chunk = np.genfromtxt(csv_file, delimiter=',', skip_header=1)\n",
    "#     data.append(data_chunk)\n",
    "\n",
    "# # Concatenate the data chunks into a single array\n",
    "# data = np.concatenate(data)\n",
    "\n",
    "# # Extract the time, channel 1, and channel 2 arrays\n",
    "# time = data[:, 0]\n",
    "# ch1 = data[:, 1]\n",
    "# ch2 = data[:, 2]"
   ]
  },
  {
   "cell_type": "code",
   "execution_count": 22,
   "id": "50520a57",
   "metadata": {},
   "outputs": [
    {
     "ename": "KeyboardInterrupt",
     "evalue": "",
     "output_type": "error",
     "traceback": [
      "\u001b[1;31m---------------------------------------------------------------------------\u001b[0m",
      "\u001b[1;31mKeyboardInterrupt\u001b[0m                         Traceback (most recent call last)",
      "\u001b[1;32mC:\\Users\\SCIENT~1\\AppData\\Local\\Temp/ipykernel_21856/2598695241.py\u001b[0m in \u001b[0;36m<module>\u001b[1;34m\u001b[0m\n\u001b[0;32m     36\u001b[0m \u001b[1;32mwhile\u001b[0m \u001b[0mt\u001b[0m\u001b[1;33m.\u001b[0m\u001b[0mtime\u001b[0m\u001b[1;33m(\u001b[0m\u001b[1;33m)\u001b[0m \u001b[1;33m-\u001b[0m \u001b[0mnow\u001b[0m \u001b[1;33m<\u001b[0m \u001b[0mdata_duration\u001b[0m\u001b[1;33m:\u001b[0m\u001b[1;33m\u001b[0m\u001b[1;33m\u001b[0m\u001b[0m\n\u001b[0;32m     37\u001b[0m     \u001b[0mtime_b\u001b[0m \u001b[1;33m=\u001b[0m \u001b[0mt\u001b[0m\u001b[1;33m.\u001b[0m\u001b[0mtime\u001b[0m\u001b[1;33m(\u001b[0m\u001b[1;33m)\u001b[0m \u001b[1;33m-\u001b[0m \u001b[0mnow\u001b[0m\u001b[1;33m\u001b[0m\u001b[1;33m\u001b[0m\u001b[0m\n\u001b[1;32m---> 38\u001b[1;33m     \u001b[0mchannels\u001b[0m \u001b[1;33m=\u001b[0m \u001b[0mscope\u001b[0m\u001b[1;33m.\u001b[0m\u001b[0mget_two_photodiode_data\u001b[0m\u001b[1;33m(\u001b[0m\u001b[1;33m)\u001b[0m\u001b[1;33m\u001b[0m\u001b[1;33m\u001b[0m\u001b[0m\n\u001b[0m\u001b[0;32m     39\u001b[0m     \u001b[0mtime_s\u001b[0m \u001b[1;33m=\u001b[0m \u001b[0mt\u001b[0m\u001b[1;33m.\u001b[0m\u001b[0mtime\u001b[0m\u001b[1;33m(\u001b[0m\u001b[1;33m)\u001b[0m \u001b[1;33m-\u001b[0m \u001b[0mnow\u001b[0m\u001b[1;33m\u001b[0m\u001b[1;33m\u001b[0m\u001b[0m\n\u001b[0;32m     40\u001b[0m \u001b[1;33m\u001b[0m\u001b[0m\n",
      "\u001b[1;32m~\\Anaconda3\\envs\\artiq\\lib\\site-packages\\labrad\\client.py\u001b[0m in \u001b[0;36m__call__\u001b[1;34m(self, *args, **kw)\u001b[0m\n\u001b[0;32m     63\u001b[0m                           \"Use setting.future(...) instead.\")\n\u001b[0;32m     64\u001b[0m         \u001b[0mf\u001b[0m \u001b[1;33m=\u001b[0m \u001b[0mself\u001b[0m\u001b[1;33m.\u001b[0m\u001b[0mfuture\u001b[0m\u001b[1;33m(\u001b[0m\u001b[1;33m*\u001b[0m\u001b[0margs\u001b[0m\u001b[1;33m,\u001b[0m \u001b[1;33m**\u001b[0m\u001b[0mkw\u001b[0m\u001b[1;33m)\u001b[0m\u001b[1;33m\u001b[0m\u001b[1;33m\u001b[0m\u001b[0m\n\u001b[1;32m---> 65\u001b[1;33m         \u001b[1;32mreturn\u001b[0m \u001b[0mf\u001b[0m\u001b[1;33m.\u001b[0m\u001b[0mresult\u001b[0m\u001b[1;33m(\u001b[0m\u001b[1;33m)\u001b[0m \u001b[1;32mif\u001b[0m \u001b[0mwait\u001b[0m \u001b[1;32melse\u001b[0m \u001b[0mf\u001b[0m\u001b[1;33m\u001b[0m\u001b[1;33m\u001b[0m\u001b[0m\n\u001b[0m\u001b[0;32m     66\u001b[0m \u001b[1;33m\u001b[0m\u001b[0m\n\u001b[0;32m     67\u001b[0m     \u001b[1;32mdef\u001b[0m \u001b[0mfuture\u001b[0m\u001b[1;33m(\u001b[0m\u001b[0mself\u001b[0m\u001b[1;33m,\u001b[0m \u001b[1;33m*\u001b[0m\u001b[0margs\u001b[0m\u001b[1;33m,\u001b[0m \u001b[1;33m**\u001b[0m\u001b[0mkw\u001b[0m\u001b[1;33m)\u001b[0m\u001b[1;33m:\u001b[0m\u001b[1;33m\u001b[0m\u001b[1;33m\u001b[0m\u001b[0m\n",
      "\u001b[1;32m~\\Anaconda3\\envs\\artiq\\lib\\concurrent\\futures\\_base.py\u001b[0m in \u001b[0;36mresult\u001b[1;34m(self, timeout)\u001b[0m\n\u001b[0;32m    428\u001b[0m                 \u001b[1;32mreturn\u001b[0m \u001b[0mself\u001b[0m\u001b[1;33m.\u001b[0m\u001b[0m__get_result\u001b[0m\u001b[1;33m(\u001b[0m\u001b[1;33m)\u001b[0m\u001b[1;33m\u001b[0m\u001b[1;33m\u001b[0m\u001b[0m\n\u001b[0;32m    429\u001b[0m \u001b[1;33m\u001b[0m\u001b[0m\n\u001b[1;32m--> 430\u001b[1;33m             \u001b[0mself\u001b[0m\u001b[1;33m.\u001b[0m\u001b[0m_condition\u001b[0m\u001b[1;33m.\u001b[0m\u001b[0mwait\u001b[0m\u001b[1;33m(\u001b[0m\u001b[0mtimeout\u001b[0m\u001b[1;33m)\u001b[0m\u001b[1;33m\u001b[0m\u001b[1;33m\u001b[0m\u001b[0m\n\u001b[0m\u001b[0;32m    431\u001b[0m \u001b[1;33m\u001b[0m\u001b[0m\n\u001b[0;32m    432\u001b[0m             \u001b[1;32mif\u001b[0m \u001b[0mself\u001b[0m\u001b[1;33m.\u001b[0m\u001b[0m_state\u001b[0m \u001b[1;32min\u001b[0m \u001b[1;33m[\u001b[0m\u001b[0mCANCELLED\u001b[0m\u001b[1;33m,\u001b[0m \u001b[0mCANCELLED_AND_NOTIFIED\u001b[0m\u001b[1;33m]\u001b[0m\u001b[1;33m:\u001b[0m\u001b[1;33m\u001b[0m\u001b[1;33m\u001b[0m\u001b[0m\n",
      "\u001b[1;32m~\\Anaconda3\\envs\\artiq\\lib\\threading.py\u001b[0m in \u001b[0;36mwait\u001b[1;34m(self, timeout)\u001b[0m\n\u001b[0;32m    294\u001b[0m         \u001b[1;32mtry\u001b[0m\u001b[1;33m:\u001b[0m    \u001b[1;31m# restore state no matter what (e.g., KeyboardInterrupt)\u001b[0m\u001b[1;33m\u001b[0m\u001b[1;33m\u001b[0m\u001b[0m\n\u001b[0;32m    295\u001b[0m             \u001b[1;32mif\u001b[0m \u001b[0mtimeout\u001b[0m \u001b[1;32mis\u001b[0m \u001b[1;32mNone\u001b[0m\u001b[1;33m:\u001b[0m\u001b[1;33m\u001b[0m\u001b[1;33m\u001b[0m\u001b[0m\n\u001b[1;32m--> 296\u001b[1;33m                 \u001b[0mwaiter\u001b[0m\u001b[1;33m.\u001b[0m\u001b[0macquire\u001b[0m\u001b[1;33m(\u001b[0m\u001b[1;33m)\u001b[0m\u001b[1;33m\u001b[0m\u001b[1;33m\u001b[0m\u001b[0m\n\u001b[0m\u001b[0;32m    297\u001b[0m                 \u001b[0mgotit\u001b[0m \u001b[1;33m=\u001b[0m \u001b[1;32mTrue\u001b[0m\u001b[1;33m\u001b[0m\u001b[1;33m\u001b[0m\u001b[0m\n\u001b[0;32m    298\u001b[0m             \u001b[1;32melse\u001b[0m\u001b[1;33m:\u001b[0m\u001b[1;33m\u001b[0m\u001b[1;33m\u001b[0m\u001b[0m\n",
      "\u001b[1;31mKeyboardInterrupt\u001b[0m: "
     ]
    }
   ],
   "source": [
    "# All points from scope\n",
    "import csv\n",
    "import time as t\n",
    "import numpy as np\n",
    "import os\n",
    "\n",
    "# Set the maximum number of rows per CSV file\n",
    "max_rows_per_file = 12000\n",
    "\n",
    "# Set the data duration in minutes\n",
    "data_duration_in_minute = 24*60\n",
    "data_duration = data_duration_in_minute * 60\n",
    "\n",
    "# Create a directory to store the CSV files\n",
    "directory = 'C:\\\\Users\\\\scientist\\\\code\\\\jam\\\\tommy\\\\PLIS\\\\Good PLIS Data\\\\0604 overnight'\n",
    "if not os.path.exists(directory):\n",
    "    os.makedirs(directory)\n",
    "\n",
    "# Generate a unique filename based on the current timestamp\n",
    "timestamp = t.strftime(\"%Y%m%d_%H%M%S\")\n",
    "\n",
    "# Initialize variables for the row counter and file index\n",
    "row_counter = 0\n",
    "file_index = 1\n",
    "\n",
    "# Open the first CSV file in write mode\n",
    "csv_file = f'{directory}/data_{timestamp}_{file_index}.csv'\n",
    "file = open(csv_file, 'w', newline='')\n",
    "writer = csv.writer(file)\n",
    "\n",
    "# Write the CSV header\n",
    "writer.writerow(['Time', 'Channel 1', 'Channel 2'])\n",
    "\n",
    "now = t.time()\n",
    "\n",
    "while t.time() - now < data_duration:\n",
    "    time_b = t.time() - now\n",
    "    channels = scope.get_two_photodiode_data()\n",
    "    time_s = t.time() - now\n",
    "    \n",
    "    ch1, ch2 = channels\n",
    "#     ch1 = ch1[::240]\n",
    "#     ch2 = ch2[::240]\n",
    "    time_step = (time_s - time_b) / len(ch1)\n",
    "    for i in range(len(ch1)):\n",
    "        # Write the data to the CSV file\n",
    "        writer.writerow([time_b + time_step * i, ch1[i], ch2[i]])\n",
    "\n",
    "        # Increment the row counter\n",
    "        row_counter += 1\n",
    "\n",
    "        # Check if the maximum number of rows per file is reached\n",
    "        if row_counter >= max_rows_per_file:\n",
    "            # Close the current CSV file\n",
    "            file.close()\n",
    "\n",
    "            # Increment the file index\n",
    "            file_index += 1\n",
    "\n",
    "            # Open a new CSV file in write mode\n",
    "            csv_file = f'{directory}/data_{timestamp}_{file_index}.csv'\n",
    "            file = open(csv_file, 'w', newline='')\n",
    "            writer = csv.writer(file)\n",
    "\n",
    "            # Write the CSV header in the new file\n",
    "            writer.writerow(['Time', 'Channel 1', 'Channel 2'])\n",
    "\n",
    "            # Reset the row counter\n",
    "            row_counter = 0\n",
    "\n",
    "# Close the current CSV file\n",
    "file.close()\n",
    "\n",
    "# # Load the data from all the CSV files using NumPy\n",
    "# data = []\n",
    "# for file_index in range(1, file_index + 1):\n",
    "#     csv_file = f'{directory}/data_{timestamp}_{file_index}.csv'\n",
    "#     data_chunk = np.genfromtxt(csv_file, delimiter=',', skip_header=1)\n",
    "#     data.append(data_chunk)\n",
    "\n",
    "# # Concatenate the data chunks into a single array\n",
    "# data = np.concatenate(data)\n",
    "\n",
    "# # Extract the time, channel 1, and channel 2 arrays\n",
    "# time = data[:, 0]\n",
    "# ch1 = data[:, 1]\n",
    "# ch2 = data[:, 2]"
   ]
  },
  {
   "cell_type": "code",
   "execution_count": 16,
   "id": "f78f06de",
   "metadata": {},
   "outputs": [],
   "source": [
    "file.close()"
   ]
  },
  {
   "cell_type": "code",
   "execution_count": null,
   "id": "4686e02e",
   "metadata": {},
   "outputs": [],
   "source": []
  }
 ],
 "metadata": {
  "kernelspec": {
   "display_name": "Python 3 (ipykernel)",
   "language": "python",
   "name": "python3"
  },
  "language_info": {
   "codemirror_mode": {
    "name": "ipython",
    "version": 3
   },
   "file_extension": ".py",
   "mimetype": "text/x-python",
   "name": "python",
   "nbconvert_exporter": "python",
   "pygments_lexer": "ipython3",
   "version": "3.7.11"
  }
 },
 "nbformat": 4,
 "nbformat_minor": 5
}
